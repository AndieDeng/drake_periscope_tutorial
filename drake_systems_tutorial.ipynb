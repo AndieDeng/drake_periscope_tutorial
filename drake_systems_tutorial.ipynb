{
 "cells": [
  {
   "cell_type": "markdown",
   "metadata": {},
   "source": [
    "# Block Diagram Systems\n",
    "\n",
    "Core idea: Functional blocks can be connected together, block-diagram style, to build systems of larger complexity. The fundamental unit -- a \"System\" -- has a very specific contract that supports both modularity and ease of analysis.\n",
    "\n",
    "High-level docs:\n",
    "http://underactuated.csail.mit.edu/underactuated.html?chapter=systems\n",
    "\n",
    "Details docs:\n",
    "http://drake.mit.edu/doxygen_cxx/group__systems.html\n",
    "\n",
    "Systems can:\n",
    "- Have any number of vector-valued (or abstract-valued) inputs\n",
    "- Have any number of vector-valued (or abstract-valued) outputs\n",
    "- Have vector-valued continuous state, assuming it supplies\n",
    "- Have vector-valued discrete state, with updates defined by _DoCalcVectorTimeDerivatives\n",
    "- Have abstract-valued (discretely-updated) state"
   ]
  },
  {
   "cell_type": "code",
   "execution_count": null,
   "metadata": {},
   "outputs": [],
   "source": [
    "# Simple continuous time system\n",
    "# Subclasses VectorSystem, which provides\n",
    "# a convenient constructor for a System\n",
    "# with 1 vector-valued input and 1 vector-valued output.\n",
    "class SimpleContinuousTimeSystem(VectorSystem):\n",
    "    def __init__(self):\n",
    "        VectorSystem.__init__(self,\n",
    "            0,                           # Zero inputs.\n",
    "            1)                           # One output.\n",
    "        self._DeclareContinuousState(1)  # One state variable.\n",
    "\n",
    "    # xdot(t) = -x(t) + x^3(t)\n",
    "    def _DoCalcVectorTimeDerivatives(self, context, u, x, xdot):\n",
    "        xdot[:] = -x + x**3\n",
    "\n",
    "    # y(t) = x(t)\n",
    "    def _DoCalcVectorOutput(self, context, u, x, y):\n",
    "        y[:] = x"
   ]
  }
 ],
 "metadata": {
  "kernelspec": {
   "display_name": "Python [conda env:py27]",
   "language": "python",
   "name": "conda-env-py27-py"
  },
  "language_info": {
   "codemirror_mode": {
    "name": "ipython",
    "version": 2
   },
   "file_extension": ".py",
   "mimetype": "text/x-python",
   "name": "python",
   "nbconvert_exporter": "python",
   "pygments_lexer": "ipython2",
   "version": "2.7.14"
  }
 },
 "nbformat": 4,
 "nbformat_minor": 2
}
