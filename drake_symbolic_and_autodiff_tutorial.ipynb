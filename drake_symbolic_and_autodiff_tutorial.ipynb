{
 "cells": [
  {
   "cell_type": "code",
   "execution_count": 1,
   "metadata": {},
   "outputs": [],
   "source": [
    "%load_ext autoreload\n",
    "%autoreload 2\n",
    "import matplotlib as mpl\n",
    "mpl.rcParams['axes.grid'] = True"
   ]
  },
  {
   "cell_type": "markdown",
   "metadata": {},
   "source": [
    "# Symbolic Computation and Optimization\n",
    "\n",
    "Core idea: make your program keep track of what computations you have performed."
   ]
  },
  {
   "cell_type": "code",
   "execution_count": 2,
   "metadata": {},
   "outputs": [
    {
     "name": "stdout",
     "output_type": "stream",
     "text": [
      "z:  (x + pow(y, 2))\n",
      "formula:  ((x + pow(y, 2)) = 1)\n"
     ]
    }
   ],
   "source": [
    "from pydrake.all import (\n",
    "    Variable\n",
    ")\n",
    "# Declare some Variables\n",
    "x = Variable(\"x\")\n",
    "y = Variable(\"y\")\n",
    "# Declare an Expression\n",
    "z = x + y**2\n",
    "print \"z: \", z\n",
    "# Declare a Formula using z\n",
    "z_equals_one = (z == 1)\n",
    "print \"formula: \", z_equals_one"
   ]
  },
  {
   "cell_type": "markdown",
   "metadata": {},
   "source": [
    "You can do simple things, like do evaluations or substitutions..."
   ]
  },
  {
   "cell_type": "code",
   "execution_count": 3,
   "metadata": {},
   "outputs": [
    {
     "name": "stdout",
     "output_type": "stream",
     "text": [
      "Using x = 3.000000, y = 4.000000...\n",
      "Partial evaluation (for only x): z =  (3 + pow(y, 2))\n",
      "Partial evaluation (for only y): z =  (16 + x)\n",
      "Full evaluation: z =  19.0\n",
      "Substituting x = y^2: z =  (2 * pow(y, 2))\n"
     ]
    }
   ],
   "source": [
    "xi = 3.\n",
    "yi = 4.\n",
    "print \"Using x = %f, y = %f...\" % (xi, yi)\n",
    "# Partial evaluation (specifying *some* variables)\n",
    "print \"Partial evaluation (for only x): z = \", z.EvaluatePartial({x:xi})\n",
    "print \"Partial evaluation (for only y): z = \", z.EvaluatePartial({y:yi})\n",
    "# Full evaluation (specifying *all* variables)\n",
    "print \"Full evaluation: z = \", z.Evaluate({x:xi, y:yi})\n",
    "print \"Substituting x = y^2: z = \", z.Substitute({x:y**2})"
   ]
  },
  {
   "cell_type": "markdown",
   "metadata": {},
   "source": [
    "And you can ask for derivatives..."
   ]
  },
  {
   "cell_type": "code",
   "execution_count": 4,
   "metadata": {},
   "outputs": [
    {
     "name": "stdout",
     "output_type": "stream",
     "text": [
      "Derivative of z w.r.t. x:  1\n",
      "Derivative of z w.r.t. y:  (2 * y)\n",
      "2nd derivative of z w.r.t. y:  2\n",
      "You can ask for Jacobians if you want:  [<Expression \"1\"> <Expression \"(2 * y)\">]\n"
     ]
    }
   ],
   "source": [
    "print \"Derivative of z w.r.t. x: \", z.Differentiate(x)\n",
    "print \"Derivative of z w.r.t. y: \", z.Differentiate(y)\n",
    "print \"2nd derivative of z w.r.t. y: \", z.Differentiate(y).Differentiate(y)\n",
    "print \"You can ask for Jacobians if you want: \", z.Jacobian([x, y])"
   ]
  },
  {
   "cell_type": "markdown",
   "metadata": {},
   "source": [
    "## Mathematical Programming\n",
    "\n",
    "As you might guess, you can build this up to cool stuff! The primary thing we use this for is setting up and solving optimizations. By specifying an optimization (i.e. an objective + a list of constraints) symbolically, Drake figures out what class of optimization it is and dispatches to an appropriate solver.\n",
    "\n",
    "http://drake.mit.edu/doxygen_cxx/group__solvers.html"
   ]
  },
  {
   "cell_type": "code",
   "execution_count": 10,
   "metadata": {},
   "outputs": [
    {
     "name": "stdout",
     "output_type": "stream",
     "text": [
      "Result:  SolutionResult.kSolutionFound\n",
      "Solver used:  OSQP\n",
      "Optimizing x:  0.0\n"
     ]
    }
   ],
   "source": [
    "from pydrake.all import (MathematicalProgram)\n",
    "prog = MathematicalProgram()\n",
    "# NewContinuousVariables spawns a 1x1 array of decision\n",
    "# variables. We're more concerned with individual variables\n",
    "# for this example, so take out the first element of that\n",
    "# array to get the actual Variable.\n",
    "x = prog.NewContinuousVariables(1, \"x\")[0]\n",
    "prog.AddQuadraticCost(x**2)\n",
    "prog.AddBoundingBoxConstraint(0., 1., x)\n",
    "result = prog.Solve()\n",
    "print \"Result: \", result\n",
    "print \"Solver used: \", prog.GetSolverId().name()\n",
    "print \"Optimizing x: \", prog.GetSolution(x)"
   ]
  },
  {
   "cell_type": "code",
   "execution_count": 11,
   "metadata": {},
   "outputs": [
    {
     "name": "stdout",
     "output_type": "stream",
     "text": [
      "Result:  SolutionResult.kSolutionFound\n",
      "Solver used:  SNOPT\n",
      "Optimizing x:  0.0\n"
     ]
    }
   ],
   "source": [
    "prog = MathematicalProgram()\n",
    "x = prog.NewContinuousVariables(1, \"x\")[0]\n",
    "prog.AddCost(x**4)\n",
    "prog.AddBoundingBoxConstraint(0., 1., x)\n",
    "result = prog.Solve()\n",
    "print \"Result: \", result\n",
    "print \"Solver used: \", prog.GetSolverId().name()\n",
    "print \"Optimizing x: \", prog.GetSolution(x)"
   ]
  },
  {
   "cell_type": "markdown",
   "metadata": {},
   "source": [
    "## SOS Stability Analysis Example\n",
    "\n",
    "As you might guess, you can build this up to cool stuff! For example, after defining some dynamics, you can pass symbolic variables through it, and then do stability analysis."
   ]
  },
  {
   "cell_type": "code",
   "execution_count": 7,
   "metadata": {},
   "outputs": [
    {
     "data": {
      "image/png": "[encoded data removed]",
      "text/plain": [
       "<matplotlib.figure.Figure at 0x7f93a5111f50>"
      ]
     },
     "metadata": {},
     "output_type": "display_data"
    }
   ],
   "source": [
    "# Define dynamics\n",
    "def dynamics(x):\n",
    "    return -x**3 - x\n",
    "\n",
    "# Do some visual inspection of this system\n",
    "import matplotlib.pyplot as plt\n",
    "import numpy as np\n",
    "from pydrake.all import sin\n",
    "x_sample = np.linspace(-1, 1, 1000)\n",
    "f = np.array([dynamics(x_i) for x_i in x_sample])\n",
    "plt.plot(x_sample, f)\n",
    "plt.xlabel(\"x\")\n",
    "plt.ylabel(\"x dot\")\n",
    "plt.title(\"xdot = \" + str(dynamics(Variable(\"x\"))));"
   ]
  },
  {
   "cell_type": "code",
   "execution_count": 8,
   "metadata": {},
   "outputs": [
    {
     "name": "stdout",
     "output_type": "stream",
     "text": [
      "Verified globally stable!\n",
      "Resulting Lyapunov function:  0.010768550023664367*x(0)^2 + -8.3573990004666846e-19*x(0)^3 + 0.012087454329122366*x(0)^4 + -2.5625928704208748e-14*1 + -2.7488648052396447e-18*x(0)\n"
     ]
    },
    {
     "data": {
      "image/png": "[encoded data removed]",
      "text/plain": [
       "<matplotlib.figure.Figure at 0x7f93a5111350>"
      ]
     },
     "metadata": {},
     "output_type": "display_data"
    }
   ],
   "source": [
    "from pydrake.all import (\n",
    "    MathematicalProgram,\n",
    "    Polynomial,\n",
    "    SolutionResult,\n",
    "    Variables\n",
    ")\n",
    "prog = MathematicalProgram()\n",
    "x = prog.NewIndeterminates(1, \"x\")[0]\n",
    "\n",
    "# Search over Lyapunov candidates\n",
    "(V, constraint) = prog.NewSosPolynomial(Variables([x]), 4)\n",
    "# V(0) = 0\n",
    "prog.AddConstraint(V.ToExpression().EvaluatePartial({x: 0.}) == 0.)\n",
    "# V radially unbounded\n",
    "prog.AddSosConstraint(V - 0.01*Polynomial(x**2))\n",
    "\n",
    "# Calculate Vdot = dV/dx dx/dt\n",
    "# Because V is a polynomial, its Jacobian is a Polynomial.\n",
    "# To keep Vdot as a polynomial, we convert the dynamics to a\n",
    "# polynomial as well, which will fail if you specify non-polynomial\n",
    "# dynamics.\n",
    "Vdot = V.Jacobian([x]).dot(Polynomial(dynamics(x)))[0]\n",
    "# Vdot negative semidef\n",
    "# (assume dynamics(0) = 0) so skip that constraint\n",
    "prog.AddSosConstraint(-1.*Vdot)\n",
    "\n",
    "result = prog.Solve()\n",
    "if result == SolutionResult.kSolutionFound:\n",
    "    print \"Verified globally stable!\"\n",
    "    V_result = prog.SubstituteSolution(V)\n",
    "    Vd_result = prog.SubstituteSolution(Vdot)\n",
    "    print \"Resulting Lyapunov function: \", V_result\n",
    "    x_sample = np.linspace(-1, 1, 1000)\n",
    "    V_eval = np.array([V_result.Evaluate({x: x_sample_i}) for x_sample_i in x_sample])\n",
    "    Vd_eval = np.array([Vd_result.Evaluate({x: x_sample_i}) for x_sample_i in x_sample])\n",
    "    plt.subplot(1, 2, 1)\n",
    "    plt.plot(x_sample, V_eval)\n",
    "    plt.xlabel(\"x\")\n",
    "    plt.title(\"V(x)\")\n",
    "    plt.subplot(1, 2, 2)\n",
    "    plt.plot(x_sample, Vd_eval)\n",
    "    plt.xlabel(\"x\")\n",
    "    plt.title(\"Vdot(x)\");\n",
    "else:\n",
    "    print \"Could not prove globally stable.\"\n",
    "    print \"Result: \", result"
   ]
  },
  {
   "cell_type": "markdown",
   "metadata": {},
   "source": [
    "# Automatic Differentiation (\"autodiff\", specifically forward-mode)\n",
    "\n",
    "Core idea: Don't bother storing the complete symbolic expression (which can be huge), but instead remember your derivatives with respect to a list of variables of interest.\n",
    "\n",
    "Every Autodiff object has a value, and a list of derivatives\n",
    "\n",
    "$$\n",
    "\\left[ [f], [\\dfrac{df}{dx_1}, \\dfrac{df}{dx_2}, ...] \\right]\n",
    "$$\n",
    "\n",
    "and these objects can be combined by overloading every relevant operator."
   ]
  },
  {
   "cell_type": "code",
   "execution_count": 9,
   "metadata": {},
   "outputs": [
    {
     "name": "stdout",
     "output_type": "stream",
     "text": [
      "Input (-1.000000, -1.000000), value 2.0, derivative [-2. -2.]\n",
      "Input (-1.000000, 0.000000), value 1.0, derivative [-2.  0.]\n",
      "Input (-1.000000, 1.000000), value 2.0, derivative [-2.  2.]\n",
      "Input (0.000000, -1.000000), value 1.0, derivative [ 0. -2.]\n",
      "Input (0.000000, 0.000000), value 0.0, derivative [0. 0.]\n",
      "Input (0.000000, 1.000000), value 1.0, derivative [0. 2.]\n",
      "Input (1.000000, -1.000000), value 2.0, derivative [ 2. -2.]\n",
      "Input (1.000000, 0.000000), value 1.0, derivative [2. 0.]\n",
      "Input (1.000000, 1.000000), value 2.0, derivative [2. 2.]\n"
     ]
    }
   ],
   "source": [
    "from pydrake.all import AutoDiffXd\n",
    "def inner_product(v):\n",
    "    # Expects a [n x 1] array input\n",
    "    return v.dot(v)\n",
    "for x in np.linspace(-1, 1., 3):\n",
    "    for y in np.linspace(-1, 1., 3):\n",
    "        x_ad = AutoDiffXd(x, [1., 0.])\n",
    "        y_ad= AutoDiffXd(y, [0., 1.])\n",
    "        f_ad = inner_product(np.array([x_ad, y_ad]))\n",
    "        print \"Input (%f, %f), value %s, derivative %s\" % (x, y, str(f_ad.value()), str(f_ad.derivatives()))"
   ]
  },
  {
   "cell_type": "markdown",
   "metadata": {},
   "source": [
    "Way more systems in Drake currently support Autodiff than Symbolic, though we hope to close that gap in the future!"
   ]
  }
 ],
 "metadata": {
  "kernelspec": {
   "display_name": "Python 2",
   "language": "python",
   "name": "python2"
  },
  "language_info": {
   "codemirror_mode": {
    "name": "ipython",
    "version": 2
   },
   "file_extension": ".py",
   "mimetype": "text/x-python",
   "name": "python",
   "nbconvert_exporter": "python",
   "pygments_lexer": "ipython2",
   "version": "2.7.14"
  }
 },
 "nbformat": 4,
 "nbformat_minor": 2
}
